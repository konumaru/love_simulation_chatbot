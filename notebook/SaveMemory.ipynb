{
 "cells": [
  {
   "cell_type": "code",
   "execution_count": 146,
   "metadata": {},
   "outputs": [
    {
     "data": {
      "text/plain": [
       "True"
      ]
     },
     "execution_count": 146,
     "metadata": {},
     "output_type": "execute_result"
    }
   ],
   "source": [
    "import os\n",
    "import re\n",
    "import pickle\n",
    "import random\n",
    "import pathlib\n",
    "from typing import List, Tuple, Any\n",
    "\n",
    "from dotenv import load_dotenv\n",
    "from langchain.prompts import (\n",
    "    ChatPromptTemplate, \n",
    "    MessagesPlaceholder, \n",
    "    SystemMessagePromptTemplate, \n",
    "    HumanMessagePromptTemplate\n",
    ")\n",
    "from langchain.schema import (\n",
    "    AIMessage,\n",
    "    HumanMessage,\n",
    "    SystemMessage\n",
    ")\n",
    "\n",
    "from langchain.chains import ConversationChain\n",
    "from langchain.chat_models import ChatOpenAI\n",
    "from langchain.memory import ConversationBufferMemory, ConversationBufferWindowMemory\n",
    "\n",
    "\n",
    "load_dotenv(\"../.envrc\")"
   ]
  },
  {
   "attachments": {},
   "cell_type": "markdown",
   "metadata": {},
   "source": [
    "- Bot定義\n",
    "- キャラクター生成\n",
    "  - BotがLINEにフレンド追加されたとき\n",
    "  - キャラクター記憶、キャラクター名を保存\n",
    "- 世界観送る\n",
    "- 挨拶メッセージ送る\n",
    "\n",
    "-- 会話開始 --\n",
    "\n",
    "- メッセージ受信\n",
    "  - user_id, display_name取得\n",
    "- キャラクター記憶呼び出し\n",
    "  - 会話記憶呼び出し\n",
    "- 次の会話を生成\n",
    "- 返答(LINE API)"
   ]
  },
  {
   "cell_type": "code",
   "execution_count": 161,
   "metadata": {},
   "outputs": [],
   "source": [
    "class ChatBot:\n",
    "    def __init__(self, partner_user_id: str, partner_user_name: str) -> None:\n",
    "        self.partner_user_id = partner_user_id\n",
    "        self.partner_user_name = partner_user_name\n",
    "        self.gen_charactor_filepath = \"../prompts/generate_charactor.txt\"\n",
    "        self.gen_first_message_filepath = \"../prompts/start_conversation.txt\"\n",
    "\n",
    "        self.llm = ChatOpenAI(\n",
    "            model_name=\"gpt-3.5-turbo\",\n",
    "            top_p=0.5,\n",
    "            temperature=0.8,\n",
    "            frequency_penalty=2,\n",
    "            max_tokens=2000,\n",
    "        )  # type: ignore\n",
    "\n",
    "        self.charactor_name = \"\"\n",
    "        self.save_dir = pathlib.Path(f\"../data/{partner_user_id}\")\n",
    "        if self.save_dir.exists():\n",
    "            self.charactor_name = self._load_txt(str(self.save_dir / \"charactor_name\"))\n",
    "            self.memory = self.load_pickle(str(self.save_dir / \"memory.pkl\"))\n",
    "            self.conversation  = self._get_conversation(self.memory)\n",
    "        else:\n",
    "            self.save_dir.mkdir(exist_ok=True)\n",
    "\n",
    "            while len(self.charactor_name) == 0:\n",
    "                self.backgroud = self.gen_background()\n",
    "                self.charactor_name = self._get_charactor_name(self.backgroud)\n",
    "\n",
    "            self._save_txt(str(self.save_dir / \"background\"), self.backgroud)\n",
    "            self._save_txt(str(self.save_dir / \"charactor_name\"), self.charactor_name)\n",
    "\n",
    "            self.memory = ConversationBufferWindowMemory(k=20, return_messages=True)\n",
    "            self.conversation  = self._get_conversation(self.memory)\n",
    "\n",
    "            self.save_pickle(str(self.save_dir / \"memory.pkl\"), self.memory)\n",
    "\n",
    "    def load_pickle(self, filepath: str) -> Any:\n",
    "        with open(filepath, \"rb\") as f:\n",
    "            data = pickle.load(f)\n",
    "        return data\n",
    "\n",
    "    def save_pickle(self, filepath: str, data: Any) -> None:\n",
    "        with open(filepath, \"wb\") as f:\n",
    "            pickle.dump(data, f)\n",
    "\n",
    "    def _load_txt(self, filepath) -> str:\n",
    "        with open(filepath, \"r\") as file:\n",
    "            txt = file.read()\n",
    "        return txt\n",
    "\n",
    "    def _save_txt(self, filepath, txt) -> str:\n",
    "        with open(filepath, \"w\") as file:\n",
    "            file.write(txt)\n",
    "    \n",
    "    def gen_background(self) -> str:\n",
    "        world = self._get_age()\n",
    "        prompt = self._load_txt(self.gen_charactor_filepath)\n",
    "        prompt = prompt.format(age=world)\n",
    "\n",
    "        messages = [SystemMessage(content=prompt), HumanMessage(content=\"Start\")]\n",
    "        res = self.llm(messages)\n",
    "        content  = res.content\n",
    "        return content\n",
    "\n",
    "    def _get_age(self) -> List[str]:\n",
    "        age = random.choices(\n",
    "            [\"現代\", \"ファンタジー世界\", \"ダークファンタジー\", \"SF\", \"時代劇\", \"中世\", \"産業革命期\", \"スチームパンク\",]\n",
    "        )\n",
    "        return age\n",
    "    \n",
    "    def _get_charactor_name(self, greeting_message: str) -> str:\n",
    "        match = re.search(\n",
    "            r\"\\[ヒロイン名\\]=: (.+)\",\n",
    "            greeting_message,\n",
    "        )\n",
    "        charactor_name = \"\"\n",
    "        if match:\n",
    "            charactor_name = match.group(1)\n",
    "            charactor_name = re.sub(r\"\\s\", \"\", charactor_name)  # スペースも除去する\n",
    "        return charactor_name\n",
    "\n",
    "    def _get_conversation(\n",
    "            self, memory: ConversationBufferWindowMemory\n",
    "        ) -> ConversationChain:\n",
    "        system_prompt = self._load_txt(self.gen_first_message_filepath)\n",
    "        system_prompt = system_prompt.format(\n",
    "            charactor_name=self.charactor_name,\n",
    "            partner_user_name=self.partner_user_name,\n",
    "        )\n",
    "        prompt = ChatPromptTemplate.from_messages(\n",
    "            [\n",
    "                SystemMessagePromptTemplate.from_template(system_prompt),\n",
    "                MessagesPlaceholder(variable_name=\"history\"),\n",
    "                HumanMessagePromptTemplate.from_template(\"{input}\"),\n",
    "            ]\n",
    "        )\n",
    "\n",
    "        conversation = ConversationChain(\n",
    "            verbose=False, memory=memory, prompt=prompt, llm=self.llm\n",
    "        )  # type: ignore\n",
    "        return conversation\n",
    "    \n",
    "    def talk(self, message: str) -> str:\n",
    "        response = self.conversation.run(input=message)\n",
    "        return response\n",
    "\n",
    "\n"
   ]
  },
  {
   "cell_type": "code",
   "execution_count": 169,
   "metadata": {},
   "outputs": [],
   "source": [
    "bot = ChatBot(\"12sdflk3sd5lksdu\", \"konumaru\")"
   ]
  },
  {
   "cell_type": "code",
   "execution_count": 163,
   "metadata": {},
   "outputs": [],
   "source": [
    "first_message = bot.talk(\"\")"
   ]
  },
  {
   "cell_type": "code",
   "execution_count": 164,
   "metadata": {},
   "outputs": [
    {
     "name": "stdout",
     "output_type": "stream",
     "text": [
      "美咲: 私は大学生で、音楽が好きです。最近はピアノを習い始めたんですよ。\n",
      "konumaru: そうなんですか！私も昔ピアノを習っていました。美咲さんのお気に入りの曲はありますか？\n",
      "美咲:\n",
      "選択肢:\n",
      "1. 「Moon River」\n",
      "2. 「Yesterday」\n",
      "3. 「A Thousand Miles」\n",
      "4. 「Let It Be」\n",
      "5. 自由に行動を入力してもよい\n"
     ]
    }
   ],
   "source": [
    "print(first_message)"
   ]
  },
  {
   "cell_type": "code",
   "execution_count": 171,
   "metadata": {},
   "outputs": [
    {
     "name": "stdout",
     "output_type": "stream",
     "text": [
      "美咲: そうですね、私がおすすめするのはショパンの「革命」エチュードです。力強くて情熱的な曲で、聴いていると胸が高鳴りますよ。\n",
      "konumaru: 革命エチュード…興味津々ですね。今度聞いてみます！\n",
      "美咲:\n",
      "選択肢:\n",
      "1. 私もその曲大好きだから一緒に聴きましょう！\n",
      "2. もし良かったらあなたもピアノを弾けるように教えませんか？\n",
      "3. 音楽って感情表現する上で本当に大切だと思います。\n",
      "4. 最近流行ってる歌手やバンド知ってます？私も新しい音楽探したいんだけど…\n",
      "5. 自由回答\n"
     ]
    }
   ],
   "source": [
    "message = bot.talk(\"1\")\n",
    "print(message)"
   ]
  },
  {
   "cell_type": "code",
   "execution_count": null,
   "metadata": {},
   "outputs": [],
   "source": []
  }
 ],
 "metadata": {
  "kernelspec": {
   "display_name": ".venv",
   "language": "python",
   "name": "python3"
  },
  "language_info": {
   "codemirror_mode": {
    "name": "ipython",
    "version": 3
   },
   "file_extension": ".py",
   "mimetype": "text/x-python",
   "name": "python",
   "nbconvert_exporter": "python",
   "pygments_lexer": "ipython3",
   "version": "3.10.9"
  },
  "orig_nbformat": 4
 },
 "nbformat": 4,
 "nbformat_minor": 2
}
